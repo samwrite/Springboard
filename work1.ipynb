{
 "cells": [
  {
   "cell_type": "markdown",
   "metadata": {},
   "source": [
    "# Capstone Project 1"
   ]
  },
  {
   "cell_type": "code",
   "execution_count": 1,
   "metadata": {},
   "outputs": [
    {
     "name": "stdout",
     "output_type": "stream",
     "text": [
      "<class 'pandas.core.frame.DataFrame'>\n",
      "RangeIndex: 6276 entries, 0 to 6275\n",
      "Data columns (total 8 columns):\n",
      "temp          6276 non-null float64\n",
      "location      6276 non-null object\n",
      "clouds        6276 non-null float64\n",
      "pressure      6276 non-null float64\n",
      "rain          894 non-null float64\n",
      "time_stamp    6276 non-null int64\n",
      "humidity      6276 non-null float64\n",
      "wind          6276 non-null float64\n",
      "dtypes: float64(6), int64(1), object(1)\n",
      "memory usage: 392.3+ KB\n",
      "None\n"
     ]
    }
   ],
   "source": [
    "import csv\n",
    "import pandas as pd\n",
    "import seaborn as sns\n",
    "\n",
    "weather_data = pd.read_csv('weather.csv')\n",
    "print(weather_data.info())"
   ]
  },
  {
   "cell_type": "code",
   "execution_count": 2,
   "metadata": {},
   "outputs": [
    {
     "name": "stdout",
     "output_type": "stream",
     "text": [
      "       temp                 location  clouds  pressure    rain  time_stamp  \\\n",
      "0     42.42                 Back Bay    1.00   1012.14  0.1228  1545003901   \n",
      "1     42.43              Beacon Hill    1.00   1012.15  0.1846  1545003901   \n",
      "2     42.50        Boston University    1.00   1012.15  0.1089  1545003901   \n",
      "3     42.11                   Fenway    1.00   1012.13  0.0969  1545003901   \n",
      "4     43.13       Financial District    1.00   1012.14  0.1786  1545003901   \n",
      "5     42.34         Haymarket Square    1.00   1012.15  0.2068  1545003901   \n",
      "6     42.36                North End    1.00   1012.15  0.2088  1545003901   \n",
      "7     42.21            North Station    1.00   1012.16  0.2069  1545003901   \n",
      "8     42.07  Northeastern University    1.00   1012.12  0.1020  1545003901   \n",
      "9     43.05            South Station    1.00   1012.12  0.1547  1545003901   \n",
      "10    42.09         Theatre District    1.00   1012.13  0.1428  1545003901   \n",
      "11    43.28                 Back Bay    0.81    990.81  0.0000  1543347920   \n",
      "12    43.27              Beacon Hill    0.80    990.80  0.0000  1543347920   \n",
      "13    43.35        Boston University    0.82    990.82  0.0000  1543347920   \n",
      "14    43.07                   Fenway    0.82    990.82  0.0000  1543347920   \n",
      "15    43.35       Financial District    0.80    990.80  0.0000  1543347920   \n",
      "16    43.20         Haymarket Square    0.80    990.79  0.0000  1543347920   \n",
      "17    43.24                North End    0.80    990.79  0.0000  1543347920   \n",
      "18    41.95            North Station    0.81    991.63  0.0000  1543347920   \n",
      "19    43.05  Northeastern University    0.81    990.82  0.0000  1543347920   \n",
      "20    43.31            South Station    0.80    990.80  0.0023  1543347920   \n",
      "21    43.05         Theatre District    0.80    990.80  0.0000  1543347920   \n",
      "22    41.89                 West End    0.81    991.64  0.0000  1543347920   \n",
      "23    43.92            North Station    1.00   1006.29  0.0409  1543277833   \n",
      "24    43.87  Northeastern University    1.00   1006.24  0.0284  1543277833   \n",
      "25    39.23                 Back Bay    0.83    996.09  0.0000  1543449727   \n",
      "26    39.18              Beacon Hill    0.83    996.08  0.0000  1543449727   \n",
      "27    39.23        Boston University    0.83    996.11  0.0000  1543449727   \n",
      "28    39.10                   Fenway    0.83    996.11  0.0000  1543449727   \n",
      "29    39.56       Financial District    0.83    996.07  0.0000  1543449727   \n",
      "...     ...                      ...     ...       ...     ...         ...   \n",
      "6246  35.68                   Fenway    0.90   1003.51  0.0000  1545054302   \n",
      "6247  36.47       Financial District    0.92   1003.47  0.0000  1545054302   \n",
      "6248  35.78  Northeastern University    0.91   1003.50  0.0000  1545054302   \n",
      "6249  36.53            South Station    0.92   1003.47  0.0000  1545054302   \n",
      "6250  35.65                 West End    0.91   1003.48  0.0000  1545054302   \n",
      "6251  39.50                 Back Bay    1.00   1018.07  0.0301  1543751574   \n",
      "6252  39.47              Beacon Hill    1.00   1018.08  0.0291  1543751574   \n",
      "6253  39.43        Boston University    1.00   1018.07  0.0269  1543751574   \n",
      "6254  39.38                   Fenway    1.00   1018.06  0.0299  1543751574   \n",
      "6255  39.63       Financial District    1.00   1018.08  0.0345  1543751574   \n",
      "6256  39.53         Haymarket Square    1.00   1018.09  0.0292  1543751574   \n",
      "6257  39.57                North End    1.00   1018.09  0.0302  1543751574   \n",
      "6258  39.51            North Station    1.00   1018.09  0.0280  1543751574   \n",
      "6259  39.41  Northeastern University    1.00   1018.06  0.0331  1543751574   \n",
      "6260  39.62            South Station    1.00   1018.08  0.0376  1543751574   \n",
      "6261  39.47         Theatre District    1.00   1018.08  0.0333  1543751574   \n",
      "6262  39.46                 West End    1.00   1018.09  0.0281  1543751574   \n",
      "6263  39.39                   Fenway    0.75   1000.56  0.0000  1545086706   \n",
      "6264  44.85                 Back Bay    0.89   1000.70  0.0000  1543819974   \n",
      "6265  44.76              Beacon Hill    0.89   1000.70  0.0000  1543819974   \n",
      "6266  44.85        Boston University    0.89   1000.70  0.0000  1543819974   \n",
      "6267  44.83                   Fenway    0.88   1000.70  0.0000  1543819974   \n",
      "6268  44.80       Financial District    0.89   1000.70  0.0000  1543819974   \n",
      "6269  44.75         Haymarket Square    0.89   1000.69  0.0000  1543819974   \n",
      "6270  44.77                North End    0.89   1000.69  0.0000  1543819974   \n",
      "6271  44.72            North Station    0.89   1000.69  0.0000  1543819974   \n",
      "6272  44.85  Northeastern University    0.88   1000.71  0.0000  1543819974   \n",
      "6273  44.82            South Station    0.89   1000.70  0.0000  1543819974   \n",
      "6274  44.78         Theatre District    0.89   1000.70  0.0000  1543819974   \n",
      "6275  44.69                 West End    0.89   1000.70  0.0000  1543819974   \n",
      "\n",
      "      humidity   wind  \n",
      "0         0.77  11.25  \n",
      "1         0.76  11.32  \n",
      "2         0.76  11.07  \n",
      "3         0.77  11.09  \n",
      "4         0.75  11.49  \n",
      "5         0.77  11.49  \n",
      "6         0.77  11.46  \n",
      "7         0.77  11.37  \n",
      "8         0.78  11.28  \n",
      "9         0.75  11.58  \n",
      "10        0.78  11.41  \n",
      "11        0.71   8.30  \n",
      "12        0.71   8.30  \n",
      "13        0.71   8.24  \n",
      "14        0.72   8.28  \n",
      "15        0.71   8.35  \n",
      "16        0.71   8.31  \n",
      "17        0.71   8.32  \n",
      "18        0.73  10.87  \n",
      "19        0.72   8.31  \n",
      "20        0.71   8.36  \n",
      "21        0.72   8.34  \n",
      "22        0.74  10.88  \n",
      "23        0.90  10.09  \n",
      "24        0.91   9.74  \n",
      "25        0.66  10.67  \n",
      "26        0.67  10.69  \n",
      "27        0.66  10.53  \n",
      "28        0.67  10.59  \n",
      "29        0.66  10.79  \n",
      "...        ...    ...  \n",
      "6246      0.90   7.20  \n",
      "6247      0.87   7.43  \n",
      "6248      0.89   7.28  \n",
      "6249      0.87   7.45  \n",
      "6250      0.90   7.33  \n",
      "6251      0.92   5.38  \n",
      "6252      0.92   5.40  \n",
      "6253      0.92   5.30  \n",
      "6254      0.92   5.33  \n",
      "6255      0.91   5.46  \n",
      "6256      0.92   5.43  \n",
      "6257      0.92   5.44  \n",
      "6258      0.92   5.41  \n",
      "6259      0.92   5.37  \n",
      "6260      0.92   5.47  \n",
      "6261      0.92   5.43  \n",
      "6262      0.92   5.41  \n",
      "6263      0.70   9.68  \n",
      "6264      0.95   1.53  \n",
      "6265      0.96   1.53  \n",
      "6266      0.95   1.52  \n",
      "6267      0.96   1.53  \n",
      "6268      0.96   1.53  \n",
      "6269      0.96   1.53  \n",
      "6270      0.96   1.53  \n",
      "6271      0.96   1.52  \n",
      "6272      0.96   1.54  \n",
      "6273      0.96   1.54  \n",
      "6274      0.96   1.54  \n",
      "6275      0.96   1.52  \n",
      "\n",
      "[6276 rows x 8 columns]\n"
     ]
    }
   ],
   "source": [
    "weather_data['rain'] = weather_data['rain'].fillna(value = 0)\n",
    "print(weather_data)"
   ]
  },
  {
   "cell_type": "code",
   "execution_count": 3,
   "metadata": {},
   "outputs": [
    {
     "name": "stdout",
     "output_type": "stream",
     "text": [
      "<class 'pandas.core.frame.DataFrame'>\n",
      "RangeIndex: 6276 entries, 0 to 6275\n",
      "Data columns (total 8 columns):\n",
      "temp          6276 non-null float64\n",
      "location      6276 non-null object\n",
      "clouds        6276 non-null float64\n",
      "pressure      6276 non-null float64\n",
      "rain          6276 non-null float64\n",
      "time_stamp    6276 non-null int64\n",
      "humidity      6276 non-null float64\n",
      "wind          6276 non-null float64\n",
      "dtypes: float64(6), int64(1), object(1)\n",
      "memory usage: 392.3+ KB\n",
      "None\n"
     ]
    }
   ],
   "source": [
    "print(weather_data.info())"
   ]
  },
  {
   "cell_type": "code",
   "execution_count": 4,
   "metadata": {},
   "outputs": [
    {
     "name": "stdout",
     "output_type": "stream",
     "text": [
      "<class 'pandas.core.frame.DataFrame'>\n",
      "RangeIndex: 693071 entries, 0 to 693070\n",
      "Data columns (total 10 columns):\n",
      "distance            693071 non-null float64\n",
      "cab_type            693071 non-null object\n",
      "time_stamp          693071 non-null int64\n",
      "destination         693071 non-null object\n",
      "source              693071 non-null object\n",
      "price               637976 non-null float64\n",
      "surge_multiplier    693071 non-null float64\n",
      "id                  693071 non-null object\n",
      "product_id          693071 non-null object\n",
      "name                693071 non-null object\n",
      "dtypes: float64(3), int64(1), object(6)\n",
      "memory usage: 52.9+ MB\n",
      "None\n"
     ]
    }
   ],
   "source": [
    "cab_data = pd.read_csv('cab_rides.csv')\n",
    "print(cab_data.info())"
   ]
  },
  {
   "cell_type": "code",
   "execution_count": 5,
   "metadata": {},
   "outputs": [
    {
     "data": {
      "text/plain": [
       "name\n",
       "Black           55095\n",
       "Black SUV       55096\n",
       "Lux             51235\n",
       "Lux Black       51235\n",
       "Lux Black XL    51235\n",
       "Lyft            51235\n",
       "Lyft XL         51235\n",
       "Shared          51233\n",
       "Taxi            55095\n",
       "UberPool        55091\n",
       "UberX           55094\n",
       "UberXL          55096\n",
       "WAV             55096\n",
       "dtype: int64"
      ]
     },
     "execution_count": 5,
     "metadata": {},
     "output_type": "execute_result"
    }
   ],
   "source": [
    "# print(cab_data.head())\n",
    "cab_data.groupby('name').size()"
   ]
  },
  {
   "cell_type": "code",
   "execution_count": 6,
   "metadata": {},
   "outputs": [
    {
     "data": {
      "text/plain": [
       "Index(['distance', 'cab_type', 'time_stamp', 'destination', 'source', 'price',\n",
       "       'surge_multiplier', 'id', 'product_id', 'name'],\n",
       "      dtype='object')"
      ]
     },
     "execution_count": 6,
     "metadata": {},
     "output_type": "execute_result"
    }
   ],
   "source": [
    "indexNames = cab_data[cab_data['name'] == 'Taxi'].index\n",
    "cab_data.columns"
   ]
  },
  {
   "cell_type": "code",
   "execution_count": 7,
   "metadata": {},
   "outputs": [
    {
     "data": {
      "text/plain": [
       "<matplotlib.axes._subplots.AxesSubplot at 0x204a41fd7b8>"
      ]
     },
     "execution_count": 7,
     "metadata": {},
     "output_type": "execute_result"
    },
    {
     "data": {
      "image/png": "[encoded data removed]",
      "text/plain": [
       "<Figure size 432x288 with 1 Axes>"
      ]
     },
     "metadata": {
      "needs_background": "light"
     },
     "output_type": "display_data"
    }
   ],
   "source": [
    "sns.boxplot(x=cab_data['price'])"
   ]
  },
  {
   "cell_type": "code",
   "execution_count": 8,
   "metadata": {},
   "outputs": [
    {
     "name": "stdout",
     "output_type": "stream",
     "text": [
      "             distance cab_type    time_stamp         destination  \\\n",
      "count   693071.000000   693071  6.930710e+05              693071   \n",
      "unique            NaN        2           NaN                  12   \n",
      "top               NaN     Uber           NaN  Financial District   \n",
      "freq              NaN   385663           NaN               58851   \n",
      "mean         2.189430      NaN  1.544046e+12                 NaN   \n",
      "std          1.138937      NaN  6.891925e+08                 NaN   \n",
      "min          0.020000      NaN  1.543204e+12                 NaN   \n",
      "25%          1.280000      NaN  1.543444e+12                 NaN   \n",
      "50%          2.160000      NaN  1.543737e+12                 NaN   \n",
      "75%          2.920000      NaN  1.544828e+12                 NaN   \n",
      "max          7.860000      NaN  1.545161e+12                 NaN   \n",
      "\n",
      "                    source          price  surge_multiplier  \\\n",
      "count               693071  637976.000000     693071.000000   \n",
      "unique                  12            NaN               NaN   \n",
      "top     Financial District            NaN               NaN   \n",
      "freq                 58857            NaN               NaN   \n",
      "mean                   NaN      16.545125          1.013870   \n",
      "std                    NaN       9.324359          0.091641   \n",
      "min                    NaN       2.500000          1.000000   \n",
      "25%                    NaN       9.000000          1.000000   \n",
      "50%                    NaN      13.500000          1.000000   \n",
      "75%                    NaN      22.500000          1.000000   \n",
      "max                    NaN      97.500000          3.000000   \n",
      "\n",
      "                                          id  \\\n",
      "count                                 693071   \n",
      "unique                                693071   \n",
      "top     f7bb540c-a830-4960-b5bf-066e61bf4d44   \n",
      "freq                                       1   \n",
      "mean                                     NaN   \n",
      "std                                      NaN   \n",
      "min                                      NaN   \n",
      "25%                                      NaN   \n",
      "50%                                      NaN   \n",
      "75%                                      NaN   \n",
      "max                                      NaN   \n",
      "\n",
      "                                  product_id    name  \n",
      "count                                 693071  693071  \n",
      "unique                                    13      13  \n",
      "top     9a0e7b09-b92b-4c41-9779-2ad22b4d779d     WAV  \n",
      "freq                                   55096   55096  \n",
      "mean                                     NaN     NaN  \n",
      "std                                      NaN     NaN  \n",
      "min                                      NaN     NaN  \n",
      "25%                                      NaN     NaN  \n",
      "50%                                      NaN     NaN  \n",
      "75%                                      NaN     NaN  \n",
      "max                                      NaN     NaN  \n"
     ]
    }
   ],
   "source": [
    "print(cab_data.describe(include='all'))"
   ]
  },
  {
   "cell_type": "code",
   "execution_count": null,
   "metadata": {},
   "outputs": [],
   "source": []
  }
 ],
 "metadata": {
  "kernelspec": {
   "display_name": "Python 3",
   "language": "python",
   "name": "python3"
  },
  "language_info": {
   "codemirror_mode": {
    "name": "ipython",
    "version": 3
   },
   "file_extension": ".py",
   "mimetype": "text/x-python",
   "name": "python",
   "nbconvert_exporter": "python",
   "pygments_lexer": "ipython3",
   "version": "3.7.3"
  }
 },
 "nbformat": 4,
 "nbformat_minor": 2
}
