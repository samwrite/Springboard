{
 "cells": [
  {
   "cell_type": "code",
   "execution_count": 2,
   "metadata": {},
   "outputs": [
    {
     "name": "stdout",
     "output_type": "stream",
     "text": [
      " Volume in drive D is DATA\n",
      " Volume Serial Number is D6F7-DFFC\n",
      "\n",
      " Directory of D:\\SamWorkD\\Springboard\\Springboard\\Statistics_Unit8\\1561754002_Bayesian_stats_Q6.28\\Bayesian_stats_Q6.28\n",
      "\n",
      "12/07/2019  12:04 PM    <DIR>          .\n",
      "12/07/2019  12:04 PM    <DIR>          ..\n",
      "12/07/2019  11:23 AM             6,148 .DS_Store\n",
      "12/07/2019  11:28 AM    <DIR>          .ipynb_checkpoints\n",
      "12/07/2019  11:23 AM    <DIR>          data\n",
      "12/07/2019  11:50 AM            17,010 inferential_statistics_3-Q.ipynb\n",
      "12/07/2019  11:56 AM             2,971 package-list3.txt\n",
      "12/07/2019  12:04 PM                72 Untitled.ipynb\n",
      "               4 File(s)         26,201 bytes\n",
      "               4 Dir(s)  593,037,426,688 bytes free\n"
     ]
    }
   ],
   "source": [
    "ls"
   ]
  },
  {
   "cell_type": "code",
   "execution_count": 3,
   "metadata": {},
   "outputs": [
    {
     "name": "stdout",
     "output_type": "stream",
     "text": [
      "Collecting pymc3\n",
      "  Using cached https://files.pythonhosted.org/packages/32/19/6c94cbadb287745ac38ff1197b9fadd66500b6b9c468e79099b110c6a2e9/pymc3-3.8-py3-none-any.whl\n",
      "Requirement already satisfied: h5py>=2.7.0 in c:\\users\\samuel\\anaconda3\\lib\\site-packages (from pymc3) (2.9.0)\n",
      "Requirement already satisfied: pandas>=0.18.0 in c:\\users\\samuel\\anaconda3\\lib\\site-packages (from pymc3) (0.24.2)\n",
      "Requirement already satisfied: theano>=1.0.4 in c:\\users\\samuel\\anaconda3\\lib\\site-packages (from pymc3) (1.0.4)\n",
      "Requirement already satisfied: numpy>=1.13.0 in c:\\users\\samuel\\anaconda3\\lib\\site-packages (from pymc3) (1.16.4)\n",
      "Requirement already satisfied: patsy>=0.4.0 in c:\\users\\samuel\\anaconda3\\lib\\site-packages (from pymc3) (0.5.1)\n",
      "Requirement already satisfied: scipy>=0.18.1 in c:\\users\\samuel\\anaconda3\\lib\\site-packages (from pymc3) (1.2.1)\n",
      "Requirement already satisfied: tqdm>=4.8.4 in c:\\users\\samuel\\anaconda3\\lib\\site-packages (from pymc3) (4.32.1)\n",
      "Collecting arviz>=0.4.1 (from pymc3)\n",
      "  Using cached https://files.pythonhosted.org/packages/fa/de/7ee2d4da966097029ed40216674b7b84e55c8fbc3bbf8fb0080f930de46c/arviz-0.5.1-py3-none-any.whl\n",
      "Requirement already satisfied: six in c:\\users\\samuel\\anaconda3\\lib\\site-packages (from h5py>=2.7.0->pymc3) (1.12.0)\n",
      "Requirement already satisfied: python-dateutil>=2.5.0 in c:\\users\\samuel\\anaconda3\\lib\\site-packages (from pandas>=0.18.0->pymc3) (2.8.0)\n",
      "Requirement already satisfied: pytz>=2011k in c:\\users\\samuel\\anaconda3\\lib\\site-packages (from pandas>=0.18.0->pymc3) (2019.1)\n",
      "Collecting netcdf4 (from arviz>=0.4.1->pymc3)\n",
      "  Downloading https://files.pythonhosted.org/packages/60/b8/0f894968c6f97e2e6d0b80a888238c492d7538799932dd1ec166e32459df/netCDF4-1.5.3-cp37-cp37m-win_amd64.whl (3.1MB)\n",
      "Requirement already satisfied: matplotlib>=3.0 in c:\\users\\samuel\\anaconda3\\lib\\site-packages (from arviz>=0.4.1->pymc3) (3.1.0)\n",
      "Collecting xarray>=0.11 (from arviz>=0.4.1->pymc3)\n",
      "  Using cached https://files.pythonhosted.org/packages/a8/52/4a561281f536d0902d6279f47fd48894c2c7b7fb078816f18367e9ef46be/xarray-0.14.1-py3-none-any.whl\n",
      "Collecting cftime (from netcdf4->arviz>=0.4.1->pymc3)\n",
      "  Downloading https://files.pythonhosted.org/packages/b3/6e/47546e3bf2a2b647a2715bb4cfe61e92fc1c1dc68ba04b224e4e2ed8dc60/cftime-1.0.4.2-cp37-none-win_amd64.whl (208kB)\n",
      "Requirement already satisfied: cycler>=0.10 in c:\\users\\samuel\\anaconda3\\lib\\site-packages (from matplotlib>=3.0->arviz>=0.4.1->pymc3) (0.10.0)\n",
      "Requirement already satisfied: kiwisolver>=1.0.1 in c:\\users\\samuel\\anaconda3\\lib\\site-packages (from matplotlib>=3.0->arviz>=0.4.1->pymc3) (1.1.0)\n",
      "Requirement already satisfied: pyparsing!=2.0.4,!=2.1.2,!=2.1.6,>=2.0.1 in c:\\users\\samuel\\anaconda3\\lib\\site-packages (from matplotlib>=3.0->arviz>=0.4.1->pymc3) (2.4.0)\n",
      "Requirement already satisfied: setuptools in c:\\users\\samuel\\anaconda3\\lib\\site-packages (from kiwisolver>=1.0.1->matplotlib>=3.0->arviz>=0.4.1->pymc3) (41.0.1)\n",
      "Installing collected packages: cftime, netcdf4, xarray, arviz, pymc3\n",
      "Successfully installed arviz-0.5.1 cftime-1.0.4.2 netcdf4-1.5.3 pymc3-3.8 xarray-0.14.1\n",
      "Note: you may need to restart the kernel to use updated packages.\n"
     ]
    }
   ],
   "source": [
    "pip install pymc3"
   ]
  },
  {
   "cell_type": "code",
   "execution_count": 4,
   "metadata": {},
   "outputs": [
    {
     "name": "stdout",
     "output_type": "stream",
     "text": [
      "Name: pymc3\n",
      "Version: 3.8\n",
      "Summary: Probabilistic Programming in Python: Bayesian Modeling and Probabilistic Machine Learning with Theano\n",
      "Home-page: http://github.com/pymc-devs/pymc3\n",
      "Author: None\n",
      "Author-email: None\n",
      "License: Apache License, Version 2.0\n",
      "Location: c:\\users\\samuel\\anaconda3\\lib\\site-packages\n",
      "Requires: scipy, pandas, arviz, tqdm, theano, patsy, numpy, h5py\n",
      "Required-by: \n",
      "Note: you may need to restart the kernel to use updated packages.\n"
     ]
    }
   ],
   "source": [
    "pip show pymc3"
   ]
  },
  {
   "cell_type": "code",
   "execution_count": null,
   "metadata": {},
   "outputs": [],
   "source": []
  }
 ],
 "metadata": {
  "kernelspec": {
   "display_name": "Python 3",
   "language": "python",
   "name": "python3"
  },
  "language_info": {
   "codemirror_mode": {
    "name": "ipython",
    "version": 3
   },
   "file_extension": ".py",
   "mimetype": "text/x-python",
   "name": "python",
   "nbconvert_exporter": "python",
   "pygments_lexer": "ipython3",
   "version": "3.7.3"
  }
 },
 "nbformat": 4,
 "nbformat_minor": 2
}
